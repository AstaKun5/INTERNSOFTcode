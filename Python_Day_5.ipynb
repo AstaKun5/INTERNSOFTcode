{
  "cells": [
    {
      "cell_type": "markdown",
      "metadata": {
        "id": "HcqFztRJeS6t"
      },
      "source": [
        "# Modules and Packages"
      ]
    },
    {
      "cell_type": "markdown",
      "metadata": {
        "id": "s2CKjrMOeS6w"
      },
      "source": [
        "Modules in Python are simply Python files with the .py extension, which implement a set of functions. Modules are imported from other modules using the import command. Before you go ahead and import modules, check out the full list of built-in modules in the Python Standard library.\n",
        "\n",
        "When a module is loaded into a running script for the first time, it is initialized by executing the code in the module once. If another module in your code imports the same module again, it will not be loaded twice but once only - so local variables inside the module act as a \"singleton\" - they are initialized only once.\n",
        "\n",
        "If we want to import module math,  we simply import the module:"
      ]
    },
    {
      "cell_type": "code",
      "execution_count": 1,
      "metadata": {
        "id": "E3qlMJnMeS6w"
      },
      "outputs": [],
      "source": [
        "# import the library\n",
        "import math"
      ]
    },
    {
      "cell_type": "code",
      "execution_count": 3,
      "metadata": {
        "colab": {
          "base_uri": "https://localhost:8080/"
        },
        "id": "PgDS-oFleS6x",
        "outputId": "f121024a-bc96-4698-8eb2-7f3f3eafefd8"
      },
      "outputs": [
        {
          "output_type": "execute_result",
          "data": {
            "text/plain": [
              "3"
            ]
          },
          "metadata": {},
          "execution_count": 3
        }
      ],
      "source": [
        "# use it (ceiling rounding)\n",
        "math.ceil(2.4)"
      ]
    },
    {
      "cell_type": "markdown",
      "metadata": {
        "id": "OS3c9e77eS6x"
      },
      "source": [
        "## Exploring built-in modules\n",
        "\n",
        "While exploring modules in Python, two important functions come in handy - the dir and help functions. dir functions show which functions are implemented in each module. Let us see the below example and understand better."
      ]
    },
    {
      "cell_type": "code",
      "execution_count": 4,
      "metadata": {
        "colab": {
          "base_uri": "https://localhost:8080/"
        },
        "id": "WVfLmIWueS6x",
        "outputId": "2be3e320-ea25-45f8-80c0-9a1024c677c9"
      },
      "outputs": [
        {
          "output_type": "stream",
          "name": "stdout",
          "text": [
            "['__doc__', '__loader__', '__name__', '__package__', '__spec__', 'acos', 'acosh', 'asin', 'asinh', 'atan', 'atan2', 'atanh', 'ceil', 'comb', 'copysign', 'cos', 'cosh', 'degrees', 'dist', 'e', 'erf', 'erfc', 'exp', 'expm1', 'fabs', 'factorial', 'floor', 'fmod', 'frexp', 'fsum', 'gamma', 'gcd', 'hypot', 'inf', 'isclose', 'isfinite', 'isinf', 'isnan', 'isqrt', 'lcm', 'ldexp', 'lgamma', 'log', 'log10', 'log1p', 'log2', 'modf', 'nan', 'nextafter', 'perm', 'pi', 'pow', 'prod', 'radians', 'remainder', 'sin', 'sinh', 'sqrt', 'tan', 'tanh', 'tau', 'trunc', 'ulp']\n"
          ]
        }
      ],
      "source": [
        "print(dir(math))"
      ]
    },
    {
      "cell_type": "markdown",
      "metadata": {
        "id": "ZyldXhOPeS6y"
      },
      "source": [
        "When we find the function in the module we want to use, we can read about it more using the help function, inside the Python interpreter:"
      ]
    },
    {
      "cell_type": "code",
      "execution_count": 5,
      "metadata": {
        "colab": {
          "base_uri": "https://localhost:8080/"
        },
        "id": "qOPT-3yreS6y",
        "outputId": "39ffdd2e-1d5e-4147-e1bb-d2f2e6fcbade"
      },
      "outputs": [
        {
          "output_type": "stream",
          "name": "stdout",
          "text": [
            "Help on built-in function ceil in module math:\n",
            "\n",
            "ceil(x, /)\n",
            "    Return the ceiling of x as an Integral.\n",
            "    \n",
            "    This is the smallest integer >= x.\n",
            "\n"
          ]
        }
      ],
      "source": [
        "help(math.ceil)"
      ]
    },
    {
      "cell_type": "markdown",
      "metadata": {
        "id": "DUaHfzXIeS6y"
      },
      "source": [
        "## Writing modules\n",
        "Writing Python modules is very simple. To create a module of your own, simply create a new .py file with the module name, and then import it using the Python file name (without the .py extension) using the import command.\n",
        "\n",
        "## Writing packages\n",
        "Packages are name-spaces which contain multiple packages and modules themselves. They are simply directories, but with a twist.\n",
        "\n",
        "The twist is, each package in Python is a directory which MUST contain a special file called **\\__init\\__.py**. This file can be empty, and it indicates that the directory it contains is a Python package, so it can be imported the same way a module can be imported.\n",
        "\n",
        "If we create a directory called foo, which marks the package name, we can then create a module inside that package called bar. We also must not forget to add the **\\__init\\__.py** file inside the foo directory.\n",
        "\n",
        "To use the module bar, we can import it in two ways:"
      ]
    },
    {
      "cell_type": "code",
      "execution_count": 6,
      "metadata": {
        "colab": {
          "base_uri": "https://localhost:8080/",
          "height": 321
        },
        "id": "38BIpJskeS6y",
        "outputId": "80095e57-bb62-421b-f8db-8b8a6226048a"
      },
      "outputs": [
        {
          "output_type": "error",
          "ename": "ModuleNotFoundError",
          "evalue": "ignored",
          "traceback": [
            "\u001b[0;31m---------------------------------------------------------------------------\u001b[0m",
            "\u001b[0;31mModuleNotFoundError\u001b[0m                       Traceback (most recent call last)",
            "\u001b[0;32m<ipython-input-6-0ab3de8fa44b>\u001b[0m in \u001b[0;36m<module>\u001b[0;34m\u001b[0m\n\u001b[1;32m      1\u001b[0m \u001b[0;31m# Just an example, this won't work\u001b[0m\u001b[0;34m\u001b[0m\u001b[0;34m\u001b[0m\u001b[0m\n\u001b[0;32m----> 2\u001b[0;31m \u001b[0;32mimport\u001b[0m \u001b[0mfoo\u001b[0m\u001b[0;34m.\u001b[0m\u001b[0mbar\u001b[0m\u001b[0;34m\u001b[0m\u001b[0;34m\u001b[0m\u001b[0m\n\u001b[0m",
            "\u001b[0;31mModuleNotFoundError\u001b[0m: No module named 'foo'",
            "",
            "\u001b[0;31m---------------------------------------------------------------------------\u001b[0;32m\nNOTE: If your import is failing due to a missing package, you can\nmanually install dependencies using either !pip or !apt.\n\nTo view examples of installing some common dependencies, click the\n\"Open Examples\" button below.\n\u001b[0;31m---------------------------------------------------------------------------\u001b[0m\n"
          ],
          "errorDetails": {
            "actions": [
              {
                "action": "open_url",
                "actionText": "Open Examples",
                "url": "/notebooks/snippets/importing_libraries.ipynb"
              }
            ]
          }
        }
      ],
      "source": [
        "# Just an example, this won't work\n",
        "import foo.bar"
      ]
    },
    {
      "cell_type": "code",
      "execution_count": 7,
      "metadata": {
        "colab": {
          "base_uri": "https://localhost:8080/",
          "height": 321
        },
        "id": "vD5SNK6oeS6z",
        "outputId": "3d43a0b5-1fb0-4206-d325-87b7c03fa1fb"
      },
      "outputs": [
        {
          "output_type": "error",
          "ename": "ModuleNotFoundError",
          "evalue": "ignored",
          "traceback": [
            "\u001b[0;31m---------------------------------------------------------------------------\u001b[0m",
            "\u001b[0;31mModuleNotFoundError\u001b[0m                       Traceback (most recent call last)",
            "\u001b[0;32m<ipython-input-7-dc56cf554081>\u001b[0m in \u001b[0;36m<module>\u001b[0;34m\u001b[0m\n\u001b[1;32m      1\u001b[0m \u001b[0;31m# OR could do it this way\u001b[0m\u001b[0;34m\u001b[0m\u001b[0;34m\u001b[0m\u001b[0m\n\u001b[0;32m----> 2\u001b[0;31m \u001b[0;32mfrom\u001b[0m \u001b[0mfoo\u001b[0m \u001b[0;32mimport\u001b[0m \u001b[0mbar\u001b[0m\u001b[0;34m\u001b[0m\u001b[0;34m\u001b[0m\u001b[0m\n\u001b[0m",
            "\u001b[0;31mModuleNotFoundError\u001b[0m: No module named 'foo'",
            "",
            "\u001b[0;31m---------------------------------------------------------------------------\u001b[0;32m\nNOTE: If your import is failing due to a missing package, you can\nmanually install dependencies using either !pip or !apt.\n\nTo view examples of installing some common dependencies, click the\n\"Open Examples\" button below.\n\u001b[0;31m---------------------------------------------------------------------------\u001b[0m\n"
          ],
          "errorDetails": {
            "actions": [
              {
                "action": "open_url",
                "actionText": "Open Examples",
                "url": "/notebooks/snippets/importing_libraries.ipynb"
              }
            ]
          }
        }
      ],
      "source": [
        "# OR could do it this way\n",
        "from foo import bar"
      ]
    },
    {
      "cell_type": "markdown",
      "metadata": {
        "id": "Vb8evFZgeS6z"
      },
      "source": [
        "In the first method, we must use the foo prefix whenever we access the module bar. In the second method, we don't, because we import the module to our module's name-space.\n",
        "\n",
        "The **\\__init\\__.py** file can also decide which modules the package exports as the API, while keeping other modules internal, by overriding the **\\__all\\__** variable, like so:"
      ]
    },
    {
      "cell_type": "code",
      "execution_count": 8,
      "metadata": {
        "colab": {
          "base_uri": "https://localhost:8080/",
          "height": 130
        },
        "id": "ojkDozEfeS6z",
        "outputId": "2961c0dd-2efd-48d1-d42e-21b525fa69e0"
      },
      "outputs": [
        {
          "output_type": "error",
          "ename": "SyntaxError",
          "evalue": "ignored",
          "traceback": [
            "\u001b[0;36m  File \u001b[0;32m\"<ipython-input-8-edd0ea511fe3>\"\u001b[0;36m, line \u001b[0;32m1\u001b[0m\n\u001b[0;31m    __init__.py:\u001b[0m\n\u001b[0m                ^\u001b[0m\n\u001b[0;31mSyntaxError\u001b[0m\u001b[0;31m:\u001b[0m invalid syntax\n"
          ]
        }
      ],
      "source": [
        "__init__.py:\n",
        "__all__= [\"bar\"]"
      ]
    },
    {
      "cell_type": "markdown",
      "metadata": {
        "id": "seXYgRKkeS6z"
      },
      "source": [
        "# Errors and Exception Handling\n",
        "\n",
        "In this section, we will learn about Errors and Exception Handling in Python. You've might have definitely encountered errors by this point in the course. For example:"
      ]
    },
    {
      "cell_type": "code",
      "execution_count": 10,
      "metadata": {
        "colab": {
          "base_uri": "https://localhost:8080/",
          "height": 130
        },
        "id": "tQhlE2omeS60",
        "outputId": "ff90e9a5-18fc-4022-b3fa-bb7912b809aa"
      },
      "outputs": [
        {
          "output_type": "error",
          "ename": "SyntaxError",
          "evalue": "ignored",
          "traceback": [
            "\u001b[0;36m  File \u001b[0;32m\"<ipython-input-10-075bb1d15818>\"\u001b[0;36m, line \u001b[0;32m1\u001b[0m\n\u001b[0;31m    print(\"hello\"\u001b[0m\n\u001b[0m                 ^\u001b[0m\n\u001b[0;31mSyntaxError\u001b[0m\u001b[0;31m:\u001b[0m unexpected EOF while parsing\n"
          ]
        }
      ],
      "source": [
        "print(\"hello\""
      ]
    },
    {
      "cell_type": "markdown",
      "metadata": {
        "id": "1weT9aRweS60"
      },
      "source": [
        "Note how we get a SyntaxError, with the further description that it was an End of Line Error (EOL) while scanning the string literal. This is specific enough for us to see that we forgot a single quote at the end of the line. Understanding of these various error types will help you debug your code much faster. \n",
        "\n",
        "This type of error and description is known as an Exception. Even if a statement or expression is syntactically correct, it may cause an error when an attempt is made to execute it. Errors detected during execution are called exceptions and are not unconditionally fatal.\n",
        "\n",
        "You can check out the full list of built-in exceptions [here](https://docs.python.org/2/library/exceptions.html). Now, let's learn how to handle errors and exceptions in our own code."
      ]
    },
    {
      "cell_type": "markdown",
      "metadata": {
        "id": "mWAZi3tMeS60"
      },
      "source": [
        "## try and except\n",
        "\n",
        "The basic terminology and syntax used to handle errors in Python is the **try** and **except** statements. The code which can cause an exception to occur is put in the *try* block and the handling of the exception are the implemented in the *except* block of code. The syntax form is:\n",
        "\n",
        "    try:\n",
        "       You do your operations here...\n",
        "       ...\n",
        "    except ExceptionI:\n",
        "       If there is ExceptionI, then execute this block.\n",
        "    except ExceptionII:\n",
        "       If there is ExceptionII, then execute this block.\n",
        "       ...\n",
        "    else:\n",
        "       If there is no exception then execute this block. \n",
        "\n",
        "Using just except, we can check for any exception: To understand better let's check out a sample code that opens and writes a file:"
      ]
    },
    {
      "cell_type": "code",
      "execution_count": 11,
      "metadata": {
        "colab": {
          "base_uri": "https://localhost:8080/"
        },
        "id": "XKm_IOrteS60",
        "outputId": "43816651-34de-4d81-98b9-acbed03f537a"
      },
      "outputs": [
        {
          "output_type": "stream",
          "name": "stdout",
          "text": [
            "content\n"
          ]
        }
      ],
      "source": [
        "try:\n",
        "    f = open(\"testfile\",\"w\")\n",
        "    f.write(\"test write this\")\n",
        "except IOError:\n",
        "    print(\"error\")\n",
        "else:\n",
        "    print(\"content\")\n",
        "    f.close()"
      ]
    },
    {
      "cell_type": "markdown",
      "metadata": {
        "id": "KPxwRPCaeS61"
      },
      "source": [
        "Now, let's see what happens when we don't have write permission? (opening only with 'r'):"
      ]
    },
    {
      "cell_type": "code",
      "execution_count": 12,
      "metadata": {
        "colab": {
          "base_uri": "https://localhost:8080/"
        },
        "id": "glJciRS7eS61",
        "outputId": "675a6c70-df45-4cb5-f79b-3f3b5f364ab5"
      },
      "outputs": [
        {
          "output_type": "stream",
          "name": "stdout",
          "text": [
            "error\n"
          ]
        }
      ],
      "source": [
        "try:\n",
        "    f = open(\"testfile\",\"r\")\n",
        "    f.write(\"test write this\")\n",
        "except IOError:\n",
        "    print(\"error\")\n",
        "else:\n",
        "    print(\"content\")\n",
        "    f.close()"
      ]
    },
    {
      "cell_type": "markdown",
      "metadata": {
        "id": "94VNUHWReS61"
      },
      "source": [
        "Notice, how we only printed a statement! The code still ran and we were able to continue doing actions and running code blocks. This is extremely useful when you have to account for possible input errors in your code. You can be prepared for the error and keep running code, instead of your code just breaking as we saw above.\n",
        "\n",
        "We could have also just said except: if we weren't sure what exception would occur. For example:"
      ]
    },
    {
      "cell_type": "code",
      "execution_count": 13,
      "metadata": {
        "colab": {
          "base_uri": "https://localhost:8080/"
        },
        "id": "KEfzAGnVeS61",
        "outputId": "8f9a32d6-9522-450f-f1e3-5ab3a1eb8d4e"
      },
      "outputs": [
        {
          "output_type": "stream",
          "name": "stdout",
          "text": [
            "content\n"
          ]
        }
      ],
      "source": [
        "try:\n",
        "    f = open(\"testfile\",\"w\")\n",
        "    f.write(\"test write this\")\n",
        "except IOError:\n",
        "    print(\"error\")\n",
        "else:\n",
        "    print(\"content\")\n",
        "    f.close()"
      ]
    },
    {
      "cell_type": "markdown",
      "metadata": {
        "id": "BSNmKcCqeS61"
      },
      "source": [
        "Now, we don't actually need to memorize the list of exception types! Now what if we keep wanting to run code after the exception occurred? This is where **finally** comes in.\n",
        "##finally\n",
        "The finally: Block of code will always be run regardless if there was an exception in the try code block. The syntax is:\n",
        "\n",
        "    try:\n",
        "       Code block here\n",
        "       ...\n",
        "       Due to any exception, this code may be skipped!\n",
        "    finally:\n",
        "       This code block would always be executed.\n",
        "\n",
        "For example:"
      ]
    },
    {
      "cell_type": "code",
      "execution_count": 14,
      "metadata": {
        "colab": {
          "base_uri": "https://localhost:8080/"
        },
        "id": "QhGrr_72eS62",
        "outputId": "38bfd3a2-6c28-42d4-8afa-82ec2b88abad"
      },
      "outputs": [
        {
          "output_type": "stream",
          "name": "stdout",
          "text": [
            "Always\n"
          ]
        }
      ],
      "source": [
        "try:\n",
        "    f = open(\"testfile\",\"w\")\n",
        "    f.write(\"test write this\")\n",
        "finally:\n",
        "    print(\"Always\")"
      ]
    },
    {
      "cell_type": "markdown",
      "metadata": {
        "id": "nJJ1prIneS62"
      },
      "source": [
        "We can use this in conjunction with except. Let's see a new example that will take into account a user putting in the wrong input:"
      ]
    },
    {
      "cell_type": "code",
      "execution_count": 18,
      "metadata": {
        "id": "fLYrv6EbeS62"
      },
      "outputs": [],
      "source": [
        "def Ahmed():\n",
        "    try:\n",
        "        val=int(input(\"Enter a number\"))\n",
        "    except:\n",
        "        print(\"Looks Likde yoy didnot enter a number\")\n",
        "    finally:\n",
        "        print(\"Your number is :\" ,val)\n",
        "        "
      ]
    },
    {
      "cell_type": "code",
      "execution_count": 19,
      "metadata": {
        "colab": {
          "base_uri": "https://localhost:8080/"
        },
        "id": "P_STV4aKeS62",
        "outputId": "3b5050e2-f27e-4fc7-e33b-77674d3d1767"
      },
      "outputs": [
        {
          "output_type": "stream",
          "name": "stdout",
          "text": [
            "Enter a number4\n",
            "Your number is : 4\n"
          ]
        }
      ],
      "source": [
        "Ahmed()"
      ]
    },
    {
      "cell_type": "code",
      "execution_count": 26,
      "metadata": {
        "colab": {
          "base_uri": "https://localhost:8080/"
        },
        "id": "5TOIOipLeS62",
        "outputId": "638803d8-fe72-4b3d-a387-fa7f6f498fb8"
      },
      "outputs": [
        {
          "output_type": "stream",
          "name": "stdout",
          "text": [
            "Enter a numbera\n",
            "Looks Likde yoy didnot enter a number\n",
            "Try enter another number58\n",
            "Your number is : 58\n"
          ]
        }
      ],
      "source": [
        "Ahmed()\n"
      ]
    },
    {
      "cell_type": "markdown",
      "metadata": {
        "id": "aSDz9mk6eS63"
      },
      "source": [
        "Check how we got an error when trying to print val (because it was properly assigned). Let's find the right solution by asking the user and checking to make sure the input type is an integer:"
      ]
    },
    {
      "cell_type": "code",
      "execution_count": 24,
      "metadata": {
        "id": "inOjSWMoeS63"
      },
      "outputs": [],
      "source": [
        "def Ahmed():\n",
        "    try:\n",
        "        val=int(input(\"Enter a number\"))\n",
        "    except:\n",
        "        print(\"Looks Likde yoy didnot enter a number\")\n",
        "        val= int(input(\"Try enter another number\"))\n",
        "    finally:\n",
        "        print(\"Your number is :\" ,val)\n",
        "        "
      ]
    },
    {
      "cell_type": "code",
      "execution_count": 25,
      "metadata": {
        "colab": {
          "base_uri": "https://localhost:8080/"
        },
        "id": "E9KFE_2WeS63",
        "outputId": "0fa5e53b-d0d1-46d5-d847-6beff87bfc44"
      },
      "outputs": [
        {
          "output_type": "stream",
          "name": "stdout",
          "text": [
            "Enter a numbera\n",
            "Looks Likde yoy didnot enter a number\n",
            "Try enter another number4\n",
            "Your number is : 4\n"
          ]
        }
      ],
      "source": [
        "Ahmed()"
      ]
    },
    {
      "cell_type": "markdown",
      "metadata": {
        "id": "XRSUPxOCeS63"
      },
      "source": [
        "Hmmm...that only did one check. How can we continually keep checking? We can use a while loop!"
      ]
    },
    {
      "cell_type": "code",
      "execution_count": 27,
      "metadata": {
        "id": "9Z23Dg0beS63"
      },
      "outputs": [],
      "source": [
        "def Ahmed():\n",
        "    while True:\n",
        "        try:\n",
        "            val=int(input(\"Enter a number\"))\n",
        "        except:\n",
        "            print(\"Looks Likde yoy didnot enter a number\")\n",
        "            continue\n",
        "        else:\n",
        "            print(\"Its is a number\")\n",
        "            break\n",
        "        finally:\n",
        "            print(\"Your number is :\" ,val)\n",
        "        "
      ]
    },
    {
      "cell_type": "code",
      "execution_count": 29,
      "metadata": {
        "scrolled": true,
        "colab": {
          "base_uri": "https://localhost:8080/"
        },
        "id": "ytmHllO6eS63",
        "outputId": "cd6986dc-d2af-4627-d83f-f18b43ebfbfc"
      },
      "outputs": [
        {
          "output_type": "stream",
          "name": "stdout",
          "text": [
            "Enter a number4\n",
            "Its is a number\n",
            "Your number is : 4\n"
          ]
        }
      ],
      "source": [
        "Ahmed()"
      ]
    },
    {
      "cell_type": "markdown",
      "metadata": {
        "id": "h7542pcWeS63"
      },
      "source": [
        "## Database connectivity and operations using Python.\n",
        "\n",
        "For Example, the following is the example of connecting with MySQL database \"my_database1\" and creating table grades1 and inserting values inside it."
      ]
    },
    {
      "cell_type": "code",
      "execution_count": 52,
      "metadata": {
        "colab": {
          "base_uri": "https://localhost:8080/"
        },
        "id": "Bm9dBOxbeS64",
        "outputId": "ca7dd4e3-3378-43bb-a880-c7541d53e723"
      },
      "outputs": [
        {
          "output_type": "execute_result",
          "data": {
            "text/plain": [
              "<sqlite3.Cursor at 0x7fdf503793b0>"
            ]
          },
          "metadata": {},
          "execution_count": 52
        }
      ],
      "source": [
        "#!/usr/bin/python\n",
        "\n",
        "import sqlite3\n",
        "#connecting with the database.\n",
        "\n",
        "db = sqlite3.connect(\"my_database1.db\")\n",
        "\n",
        "# Drop table if it already exist using execute() method.\n",
        "db.execute(\"drop table if exists grades1\")\n",
        "# Create table as per requirement\n",
        "db.execute(\"create table grades1(id int, name text,score int)\")\n",
        "#inserting values inside the created table\n",
        "db.execute(\"Insert into grades1 (id,name,score) values(1,'Ahmed',69)\")\n",
        "db.execute(\"Insert into grades1 (id,name,score) values(2,'Asta',88)\")\n",
        "db.execute(\"Insert into grades1 (id,name,score) values(3,'YasminaWith4Eyes',0)\")"
      ]
    },
    {
      "cell_type": "code",
      "execution_count": 53,
      "metadata": {
        "id": "TS9Dpc6SeS64"
      },
      "outputs": [],
      "source": [
        "db.commit()"
      ]
    },
    {
      "cell_type": "code",
      "execution_count": 56,
      "metadata": {
        "colab": {
          "base_uri": "https://localhost:8080/"
        },
        "id": "p2JDYMpQeS64",
        "outputId": "60bb995b-4098-4b40-9668-e17a95f89bc0"
      },
      "outputs": [
        {
          "output_type": "stream",
          "name": "stdout",
          "text": [
            "(1, 'Ahmed', 69)\n",
            "(2, 'Asta', 88)\n",
            "(3, 'YasminaWith4Eyes', 0)\n",
            "____________________________________________________________\n"
          ]
        }
      ],
      "source": [
        "results = db.execute(\"select * from grades1 order by id\")\n",
        "for row in results:\n",
        "    print(row)\n",
        "print(\"_\"*60)"
      ]
    },
    {
      "cell_type": "code",
      "execution_count": 57,
      "metadata": {
        "colab": {
          "base_uri": "https://localhost:8080/"
        },
        "id": "odXSVnA5eS64",
        "outputId": "6f680982-ec36-4ba8-d499-b3e25324c3c9"
      },
      "outputs": [
        {
          "output_type": "stream",
          "name": "stdout",
          "text": [
            "(2, 'Asta', 88)\n",
            "________________________________________________________________________________\n"
          ]
        }
      ],
      "source": [
        "results = db.execute(\"select * from grades1 Where name = 'Asta'\")\n",
        "for row in results:\n",
        "    print(row)\n",
        "print(\"_\"*80)"
      ]
    },
    {
      "cell_type": "code",
      "execution_count": 58,
      "metadata": {
        "colab": {
          "base_uri": "https://localhost:8080/"
        },
        "id": "GZEOEPd1eS64",
        "outputId": "8d017cf7-5ccb-4a87-cf55-3417367dfbab"
      },
      "outputs": [
        {
          "output_type": "stream",
          "name": "stdout",
          "text": [
            "____________________________________________________________\n"
          ]
        }
      ],
      "source": [
        "results = db.execute(\"select * from grades1 where score >=90\")\n",
        "for row in results:\n",
        "    print(row)\n",
        "print(\"_\"*60)"
      ]
    },
    {
      "cell_type": "code",
      "execution_count": 59,
      "metadata": {
        "colab": {
          "base_uri": "https://localhost:8080/"
        },
        "id": "umvUpV1qeS64",
        "outputId": "774ce110-1306-45b1-b7ab-e7be648b2355"
      },
      "outputs": [
        {
          "output_type": "stream",
          "name": "stdout",
          "text": [
            "('Asta', 88)\n",
            "('Ahmed', 69)\n",
            "('YasminaWith4Eyes', 0)\n",
            "____________________________________________________________\n"
          ]
        }
      ],
      "source": [
        "results = db.execute(\"select name,score from grades1 order by score desc\")\n",
        "for row in results:\n",
        "    print(row)\n",
        "print(\"_\"*60)"
      ]
    },
    {
      "cell_type": "code",
      "execution_count": 60,
      "metadata": {
        "colab": {
          "base_uri": "https://localhost:8080/"
        },
        "id": "FD2JAYYheS64",
        "outputId": "959d4b43-b324-4ac7-b8de-5c9bd62e31bc"
      },
      "outputs": [
        {
          "output_type": "stream",
          "name": "stdout",
          "text": [
            "('YasminaWith4Eyes', 0)\n",
            "('Ahmed', 69)\n",
            "('Asta', 88)\n",
            "____________________________________________________________\n"
          ]
        }
      ],
      "source": [
        "results = db.execute(\"select name,score from grades1 order by score\")\n",
        "for row in results:\n",
        "    print(row)\n",
        "print(\"_\"*60)"
      ]
    },
    {
      "cell_type": "code",
      "execution_count": 61,
      "metadata": {
        "colab": {
          "base_uri": "https://localhost:8080/"
        },
        "id": "jEL2Kra7eS65",
        "outputId": "71f63489-06f2-499e-c41f-132d285685e9"
      },
      "outputs": [
        {
          "output_type": "stream",
          "name": "stdout",
          "text": [
            "('YasminaWith4Eyes', 0)\n",
            "('Ahmed', 69)\n",
            "('Asta', 88)\n",
            "____________________________________________________________\n"
          ]
        }
      ],
      "source": [
        "results = db.execute(\"select name,score from grades1 order by score\")\n",
        "for row in results:\n",
        "    print(row)\n",
        "print(\"_\"*60)"
      ]
    }
  ],
  "metadata": {
    "kernelspec": {
      "display_name": "Python 3",
      "language": "python",
      "name": "python3"
    },
    "language_info": {
      "codemirror_mode": {
        "name": "ipython",
        "version": 3
      },
      "file_extension": ".py",
      "mimetype": "text/x-python",
      "name": "python",
      "nbconvert_exporter": "python",
      "pygments_lexer": "ipython3",
      "version": "3.7.3"
    },
    "colab": {
      "provenance": []
    }
  },
  "nbformat": 4,
  "nbformat_minor": 0
}